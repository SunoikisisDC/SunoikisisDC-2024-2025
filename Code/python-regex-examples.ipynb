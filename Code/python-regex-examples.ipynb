{
 "cells": [
  {
   "cell_type": "markdown",
   "id": "943528da",
   "metadata": {},
   "source": [
    "Python has a regular expressions module as part of its standard library, but it needs to be imported before use:"
   ]
  },
  {
   "cell_type": "code",
   "execution_count": null,
   "id": "1fc9954a",
   "metadata": {},
   "outputs": [],
   "source": [
    "import re"
   ]
  },
  {
   "cell_type": "markdown",
   "id": "fc443907",
   "metadata": {},
   "source": [
    "We'll read in the `sample-bibliography-for-python.bib` file as one string of text:"
   ]
  },
  {
   "cell_type": "code",
   "execution_count": null,
   "id": "d9cd7fe7",
   "metadata": {},
   "outputs": [],
   "source": [
    "with open('sample-bibliography-for-python.bib', 'r') as f:\n",
    "    bib = f.read()"
   ]
  },
  {
   "cell_type": "code",
   "execution_count": null,
   "id": "daca205d",
   "metadata": {},
   "outputs": [],
   "source": [
    "bib"
   ]
  },
  {
   "cell_type": "markdown",
   "id": "1fce4e75",
   "metadata": {},
   "source": [
    "This won't work with Python's default regex settings:"
   ]
  },
  {
   "cell_type": "code",
   "execution_count": null,
   "id": "f3c2f6c7",
   "metadata": {},
   "outputs": [],
   "source": [
    "bib = re.sub(r\",$\", \"\", bib)"
   ]
  },
  {
   "cell_type": "code",
   "execution_count": null,
   "id": "5dff1da1",
   "metadata": {},
   "outputs": [],
   "source": [
    "bib[:200]"
   ]
  },
  {
   "cell_type": "markdown",
   "id": "ef8183bc",
   "metadata": {},
   "source": [
    "We need the `multiline` flag to get Python to treat `\\n` as the end and beginning of a line:"
   ]
  },
  {
   "cell_type": "code",
   "execution_count": null,
   "id": "8df3fd12",
   "metadata": {},
   "outputs": [],
   "source": [
    "bib = re.sub(\",$\", \"\", bib, flags=re.MULTILINE)"
   ]
  },
  {
   "cell_type": "code",
   "execution_count": null,
   "id": "702160ec",
   "metadata": {},
   "outputs": [],
   "source": [
    "bib[:200]"
   ]
  },
  {
   "cell_type": "code",
   "execution_count": null,
   "id": "93624d9d",
   "metadata": {},
   "outputs": [],
   "source": [
    "bib = re.sub(r\"^abstract.+$\", \"\", bib, flags=re.MULTILINE)"
   ]
  },
  {
   "cell_type": "code",
   "execution_count": null,
   "id": "bc0f93ce",
   "metadata": {},
   "outputs": [],
   "source": [
    "bib[:500]"
   ]
  },
  {
   "cell_type": "markdown",
   "id": "7e2666b1",
   "metadata": {},
   "source": [
    "Python doesn't use *Perl-Compatible Regex* (PCRE) for its back references. It uses `\\\\` instead of `$`."
   ]
  },
  {
   "cell_type": "code",
   "execution_count": null,
   "id": "30e78ecf",
   "metadata": {},
   "outputs": [],
   "source": [
    "bib = re.sub(r\"(^keywords.{30}).+\", \"\\\\1\", bib, flags=re.MULTILINE)"
   ]
  },
  {
   "cell_type": "code",
   "execution_count": null,
   "id": "87202000",
   "metadata": {},
   "outputs": [],
   "source": [
    "bib[:500]"
   ]
  },
  {
   "cell_type": "markdown",
   "id": "db24d11c",
   "metadata": {},
   "source": [
    "Find all the titles in the file we read in:"
   ]
  },
  {
   "cell_type": "code",
   "execution_count": null,
   "id": "22bdc32b",
   "metadata": {},
   "outputs": [],
   "source": [
    "titles = re.findall(r'^title.+,', bib, flags=re.MULTILINE)"
   ]
  },
  {
   "cell_type": "code",
   "execution_count": null,
   "id": "13a52610",
   "metadata": {},
   "outputs": [],
   "source": [
    "titles"
   ]
  },
  {
   "cell_type": "markdown",
   "id": "176c754e",
   "metadata": {},
   "source": [
    "Count how many we found:"
   ]
  },
  {
   "cell_type": "code",
   "execution_count": null,
   "id": "be909f44",
   "metadata": {},
   "outputs": [],
   "source": [
    "len(titles)"
   ]
  },
  {
   "cell_type": "code",
   "execution_count": null,
   "id": "ddcc8cf9",
   "metadata": {},
   "outputs": [],
   "source": []
  }
 ],
 "metadata": {
  "kernelspec": {
   "display_name": "Python 3 (ipykernel)",
   "language": "python",
   "name": "python3"
  },
  "language_info": {
   "codemirror_mode": {
    "name": "ipython",
    "version": 3
   },
   "file_extension": ".py",
   "mimetype": "text/x-python",
   "name": "python",
   "nbconvert_exporter": "python",
   "pygments_lexer": "ipython3",
   "version": "3.9.6"
  }
 },
 "nbformat": 4,
 "nbformat_minor": 5
}
